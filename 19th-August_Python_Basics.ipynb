{
 "cells": [
  {
   "cell_type": "code",
   "execution_count": 1,
   "id": "f64af918-a45e-40ea-9909-a98e1b6485b6",
   "metadata": {},
   "outputs": [],
   "source": [
    "#TOPIC PYTHON BASICS VARIABLE"
   ]
  },
  {
   "cell_type": "code",
   "execution_count": 2,
   "id": "a45d727a-d161-4477-bcbd-04b6ca47e5cc",
   "metadata": {},
   "outputs": [],
   "source": [
    "# 1. Declare two variables, `x` and `y`, and assign them integer values. Swap the values of these variables without using any temporary variable.\n"
   ]
  },
  {
   "cell_type": "code",
   "execution_count": 11,
   "id": "5752423e-08c5-4148-8777-1157d47a5eb1",
   "metadata": {},
   "outputs": [
    {
     "name": "stdout",
     "output_type": "stream",
     "text": [
      "before swapping x and y is 10 and 20\n",
      "After swapping x is 20 and y is 10\n"
     ]
    }
   ],
   "source": [
    "x=10;\n",
    "y=20;\n",
    "print(\"before swapping x and y is\",x,\"and\",y)\n",
    "x=x+y\n",
    "y=x-y\n",
    "x=x-y\n",
    "print(f\"After swapping x is {x} and y is {y}\")"
   ]
  },
  {
   "cell_type": "code",
   "execution_count": 13,
   "id": "b4a83de7-f012-47d3-8d22-1b82a4167046",
   "metadata": {},
   "outputs": [],
   "source": [
    "# 2. Create a program that calculates the area of a rectangle. Take the length and width as inputs from the user and store them in variables. Calculate and\n",
    "#display the area.\n"
   ]
  },
  {
   "cell_type": "code",
   "execution_count": 15,
   "id": "d7a2ca25-7798-4adf-baaf-fb7817d8f1fe",
   "metadata": {},
   "outputs": [
    {
     "name": "stdin",
     "output_type": "stream",
     "text": [
      "Enter the length of the rectangle 12\n",
      "Enter the breadth of the rectangle 23\n"
     ]
    },
    {
     "name": "stdout",
     "output_type": "stream",
     "text": [
      "Area of rectangle is  276.0\n"
     ]
    }
   ],
   "source": [
    "l=float(input(\"Enter the length of the rectangle\"))\n",
    "b=float(input(\"Enter the breadth of the rectangle\"))\n",
    "area_of_rectangle=l*b\n",
    "print(\"Area of rectangle is \",area_of_rectangle)"
   ]
  },
  {
   "cell_type": "code",
   "execution_count": 16,
   "id": "7279552d-cb7f-4c79-b1c4-444881a93184",
   "metadata": {},
   "outputs": [],
   "source": [
    "# 3. Write a Python program that converts temperatures from Celsius to Fahrenheit. Take the temperature in Celsius as input, store it in a variable,\n",
    "#    convert it to Fahrenheit, and display the result.\n"
   ]
  },
  {
   "cell_type": "code",
   "execution_count": 17,
   "id": "9df523ba-c599-4b65-a90f-e2e5a8f01e94",
   "metadata": {},
   "outputs": [
    {
     "name": "stdin",
     "output_type": "stream",
     "text": [
      "Enter the temperature in celsius form 20\n"
     ]
    },
    {
     "name": "stdout",
     "output_type": "stream",
     "text": [
      "conversion of temperature from celsius to fahrenheit is  68.0\n"
     ]
    }
   ],
   "source": [
    "c=float(input(\"Enter the temperature in celsius form\"))\n",
    "f=(c*9/5)+32\n",
    "print(\"conversion of temperature from celsius to fahrenheit is \",f)"
   ]
  },
  {
   "cell_type": "code",
   "execution_count": 18,
   "id": "e440fa6a-3343-4b21-86d9-4ec33e980940",
   "metadata": {},
   "outputs": [],
   "source": [
    "# TOPIC STRING BASED QUESTIONS"
   ]
  },
  {
   "cell_type": "code",
   "execution_count": 19,
   "id": "7a74dc36-83c7-43ea-9fd4-b3926a722076",
   "metadata": {},
   "outputs": [],
   "source": [
    "# 1. Write a Python program that takes a string as input and prints the length of the string.\n"
   ]
  },
  {
   "cell_type": "code",
   "execution_count": 23,
   "id": "b59c327a-67d8-4b1d-b146-18af7c09b2e5",
   "metadata": {},
   "outputs": [
    {
     "name": "stdin",
     "output_type": "stream",
     "text": [
      "enter the string nisha\n"
     ]
    },
    {
     "name": "stdout",
     "output_type": "stream",
     "text": [
      "string is  nisha\n",
      "length of the string is 5\n"
     ]
    }
   ],
   "source": [
    "s=input(\"enter the string\")\n",
    "print(\"string is \",s)\n",
    "print(\"length of the string is\",len(s))"
   ]
  },
  {
   "cell_type": "code",
   "execution_count": 24,
   "id": "7d912991-80f1-454b-aeb7-ce33beeed0bf",
   "metadata": {},
   "outputs": [],
   "source": [
    "# 2. Create a program that takes a sentence from the user and counts the number of vowels (a, e, i, o, u) in the string.\n"
   ]
  },
  {
   "cell_type": "code",
   "execution_count": 33,
   "id": "ecfa71f8-bf61-404b-9895-d73dff259fc7",
   "metadata": {},
   "outputs": [
    {
     "name": "stdin",
     "output_type": "stream",
     "text": [
      "Enter a sentence hello,everyone i am tanu\n"
     ]
    },
    {
     "name": "stdout",
     "output_type": "stream",
     "text": [
      "total no of vowel is: 10\n"
     ]
    }
   ],
   "source": [
    "s=input(\"Enter a sentence\")\n",
    "sentence=s.lower()\n",
    "count=0\n",
    "for char in sentence:\n",
    "    if char in \"aeiou\":\n",
    "    \n",
    "        count=count+1\n",
    "print(\"total no of vowel is:\",count)"
   ]
  },
  {
   "cell_type": "code",
   "execution_count": 35,
   "id": "71cf0e9f-2687-4eea-b4dc-1bddc23485d6",
   "metadata": {},
   "outputs": [],
   "source": [
    "# 3. Given a string, reverse the order of characters using string slicing and print the reversed string.\n"
   ]
  },
  {
   "cell_type": "code",
   "execution_count": 38,
   "id": "69d74d7f-6679-49c1-8dcb-2a205f652f9b",
   "metadata": {},
   "outputs": [
    {
     "name": "stdin",
     "output_type": "stream",
     "text": [
      "enter the string hello everyone i am tanu\n"
     ]
    },
    {
     "name": "stdout",
     "output_type": "stream",
     "text": [
      "string is  hello everyone i am tanu\n",
      "reveresed string is unat ma i enoyreve olleh\n"
     ]
    }
   ],
   "source": [
    "s=input(\"enter the string\")\n",
    "print(\"string is \",s)\n",
    "s=s[::-1]\n",
    "print(\"reveresed string is\",s)"
   ]
  },
  {
   "cell_type": "code",
   "execution_count": 39,
   "id": "c5a57229-aec1-42c6-897f-a03106c9f409",
   "metadata": {},
   "outputs": [],
   "source": [
    "# 4. Write a program that takes a string as input and checks if it is a palindrome (reads the same forwards and backwards).\n"
   ]
  },
  {
   "cell_type": "code",
   "execution_count": 43,
   "id": "3f7357de-a6a6-442e-b40f-dbca351b817d",
   "metadata": {},
   "outputs": [
    {
     "name": "stdin",
     "output_type": "stream",
     "text": [
      "Enter a string level\n"
     ]
    },
    {
     "name": "stdout",
     "output_type": "stream",
     "text": [
      "string is  level\n",
      "reverse of the string is level\n",
      "string is palindrome\n"
     ]
    }
   ],
   "source": [
    "s=input(\"Enter a string\")\n",
    "print(\"string is \",s)\n",
    "reverse=s[::-1]\n",
    "print(\"reverse of the string is\",reverse)\n",
    "if s==reverse:\n",
    "    print(\"string is palindrome\")\n",
    "else:\n",
    "    print(\"string is not palindrome\")"
   ]
  },
  {
   "cell_type": "code",
   "execution_count": 44,
   "id": "5cee9e3a-4ee6-4ddd-8075-f78a5dae26b9",
   "metadata": {},
   "outputs": [],
   "source": [
    "# 5. Create a program that takes a string as input and removes all the spaces from it. Print the modified string without spaces. \n"
   ]
  },
  {
   "cell_type": "code",
   "execution_count": 48,
   "id": "bcda8c4a-be33-41af-83f4-0df2aed5e488",
   "metadata": {},
   "outputs": [
    {
     "name": "stdin",
     "output_type": "stream",
     "text": [
      "enter the string hello everyone how are you guys\n"
     ]
    },
    {
     "name": "stdout",
     "output_type": "stream",
     "text": [
      "string is hello everyone how are you guys\n",
      "string after removing the spaces: helloeveryonehowareyouguys\n"
     ]
    }
   ],
   "source": [
    "s= input(\"enter the string\")\n",
    "print(\"string is\",s)\n",
    "sr=s.replace(\" \",\"\")\n",
    "print(\"string after removing the spaces:\",sr)"
   ]
  },
  {
   "cell_type": "code",
   "execution_count": null,
   "id": "caa0cba3-1ff7-4bec-b204-240cec82b059",
   "metadata": {},
   "outputs": [],
   "source": []
  }
 ],
 "metadata": {
  "kernelspec": {
   "display_name": "Python 3 (ipykernel)",
   "language": "python",
   "name": "python3"
  },
  "language_info": {
   "codemirror_mode": {
    "name": "ipython",
    "version": 3
   },
   "file_extension": ".py",
   "mimetype": "text/x-python",
   "name": "python",
   "nbconvert_exporter": "python",
   "pygments_lexer": "ipython3",
   "version": "3.10.8"
  }
 },
 "nbformat": 4,
 "nbformat_minor": 5
}
